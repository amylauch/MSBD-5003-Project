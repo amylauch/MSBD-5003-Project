{
 "cells": [
  {
   "cell_type": "code",
   "execution_count": 9,
   "metadata": {},
   "outputs": [],
   "source": [
    "# MONGODB GUIDE\n",
    "# 1. use mongod to start mongo server (mongod)\n",
    "# 2. use mongo to create database and collection(use [dbname], db.createCollection([collectionName]))\n",
    "# 3. come to pyspark, test -> your dbname, myCollection -> your specified collection Name\n",
    "# ./bin/pyspark --conf \"spark.mongodb.input.uri=mongodb://127.0.0.1/test.myCollection?readPreference=primaryPreferred\" \\\n",
    "#               --conf \"spark.mongodb.output.uri=mongodb://127.0.0.1/test.myCollection\" \\\n",
    "#               --packages org.mongodb.spark:mongo-spark-connector_2.12:3.0.0"
   ]
  },
  {
   "cell_type": "code",
   "execution_count": 1,
   "metadata": {},
   "outputs": [],
   "source": [
    "from pyspark.sql import SparkSession\n",
    "\n",
    "my_spark = SparkSession \\\n",
    "    .builder \\\n",
    "    .appName(\"myApp\") \\\n",
    "    .config(\"spark.mongodb.input.uri\", \"mongodb://127.0.0.1/5003.vendors\") \\\n",
    "    .config(\"spark.mongodb.output.uri\", \"mongodb://127.0.0.1/5003.vendors\") \\\n",
    "    .getOrCreate()"
   ]
  },
  {
   "cell_type": "code",
   "execution_count": 2,
   "metadata": {},
   "outputs": [],
   "source": [
    "df = my_spark.read.format(\"mongo\").load()"
   ]
  },
  {
   "cell_type": "code",
   "execution_count": 3,
   "metadata": {},
   "outputs": [
    {
     "name": "stdout",
     "output_type": "stream",
     "text": [
      "root\n",
      "\n"
     ]
    }
   ],
   "source": [
    "df.printSchema()"
   ]
  },
  {
   "cell_type": "code",
   "execution_count": 4,
   "metadata": {},
   "outputs": [],
   "source": [
    "ven = spark.read.csv('/mnt/d/bdt/5003/project/cleaned_vendors.csv',header=True, inferSchema=True)"
   ]
  },
  {
   "cell_type": "code",
   "execution_count": 6,
   "metadata": {},
   "outputs": [
    {
     "name": "stdout",
     "output_type": "stream",
     "text": [
      "+---+---+-----------------+--------------------+-------------------+------------------+------------------+---------------+----------------+-------+---------------+-------------------+-------------+---------------+----+--------+-------------+------------+-----------+------+---------+-------+--------+-------------+------+--------+------+----------+--------+-----+------+-------+-----+------+-----+------+-----+-------+--------+----------+-----+------------+--------+-----+-------+-------+-----+---------+---------+------+------------+----------+--------+-------+--------+------+----+------+------+-----+-------+-------+-----+----------+------+-------+-------+----+------+-------+---------+-----+-----+-------------+------+------+------+-------+-----+--------------+-------+-------------+-----------+------+----+--------+\n",
      "|_c0| id|authentication_id|     latitude_vendor|   longitude_vendor|vendor_category_en|vendor_category_id|delivery_charge|serving_distance|is_open|prepration_time|discount_percentage|status_vendor|verified_vendor|rank|language|vendor_rating|primary_tags|device_type|Arabic|Breakfast|Burgers|Desserts|Free Delivery|Grills|Lebanese|Salads|Sandwiches|Shawarma|Cakes|Crepes|Italian|Pasta|Pizzas|Soups|Indian|Fries|Mexican|American|Milkshakes|Asian|Healthy Food|Japanese|Sushi|Mojitos|Mandazi|Omani|Manakeesh|Kids meal|Donuts|Fresh Juices|Ice creams|Pancakes|Waffles|Hot Dogs|Dimsum|Rice|Sweets|Steaks|Pizza|Mishkak|Biryani|Thali|Vegetarian|Pastry|Seafood|Chinese|Thai|Coffee|Organic|Smoothies|Karak|Rolls|Hot Chocolate|Pastas|Combos|Bagels|Churros|Shuwa|Frozen yoghurt|Kushari|Spanish Latte|Family Meal|Kebabs|Cafe|Fatayers|\n",
      "+---+---+-----------------+--------------------+-------------------+------------------+------------------+---------------+----------------+-------+---------------+-------------------+-------------+---------------+----+--------+-------------+------------+-----------+------+---------+-------+--------+-------------+------+--------+------+----------+--------+-----+------+-------+-----+------+-----+------+-----+-------+--------+----------+-----+------------+--------+-----+-------+-------+-----+---------+---------+------+------------+----------+--------+-------+--------+------+----+------+------+-----+-------+-------+-----+----------+------+-------+-------+----+------+-------+---------+-----+-----+-------------+------+------+------+-------+-----+--------------+-------+-------------+-----------+------+----+--------+\n",
      "|  0|  4|         118597.0|  -0.588596153846155| 0.7544340909088447|                 1|                 2|            0.0|             6.0|      1|             15|                0.0|            1|              1|  11|     1.0|          4.4|           4|          3|     1|        1|      1|       1|            1|     1|       1|     1|         1|       1|    0|     0|      0|    0|     0|    0|     0|    0|      0|       0|         0|    0|           0|       0|    0|      0|      0|    0|        0|        0|     0|           0|         0|       0|      0|       0|     0|   0|     0|     0|    0|      0|      0|    0|         0|     0|      0|      0|   0|     0|      0|        0|    0|    0|            0|     0|     0|     0|      0|    0|             0|      0|            0|          0|     0|   0|       0|\n",
      "|  1| 13|         118608.0| -0.4716538461538806| 0.7444704545454467|                 1|                 2|            0.7|             5.0|      1|             14|                0.0|            1|              1|  11|     1.0|          4.7|           7|          3|     0|        1|      0|       0|            0|     0|       0|     1|         1|       0|    1|     1|      1|    1|     1|    1|     0|    0|      0|       0|         0|    0|           0|       0|    0|      0|      0|    0|        0|        0|     0|           0|         0|       0|      0|       0|     0|   0|     0|     0|    0|      0|      0|    0|         0|     0|      0|      0|   0|     0|      0|        0|    0|    0|            0|     0|     0|     0|      0|    0|             0|      0|            0|          0|     0|   0|       0|\n",
      "|  2| 20|         118616.0| -0.4075269230769129| 0.6436806818179458|                 1|                 2|            0.0|             8.0|      1|             19|                0.0|            1|              1|   1|     1.0|          4.5|          71|          3|     0|        1|      0|       1|            1|     0|       0|     0|         0|       0|    0|     0|      0|    0|     0|    0|     1|    0|      0|       0|         0|    0|           0|       0|    0|      0|      0|    0|        0|        0|     0|           0|         0|       0|      0|       0|     0|   0|     0|     0|    0|      0|      0|    0|         0|     0|      0|      0|   0|     0|      0|        0|    0|    0|            0|     0|     0|     0|      0|    0|             0|      0|            0|          0|     0|   0|       0|\n",
      "|  3| 23|         118619.0| -0.5853846153845947| 0.7538113636363009|                 1|                 2|            0.0|             5.0|      1|             16|                0.0|            1|              1|  11|     1.0|          4.5|          46|          3|     0|        0|      1|       1|            0|     0|       0|     1|         0|       0|    0|     0|      0|    0|     0|    0|     0|    1|      0|       0|         0|    0|           0|       0|    0|      0|      0|    0|        0|        0|     0|           0|         0|       0|      0|       0|     0|   0|     0|     0|    0|      0|      0|    0|         0|     0|      0|      0|   0|     0|      0|        0|    0|    0|            0|     0|     0|     0|      0|    0|             0|      0|            0|          0|     0|   0|       0|\n",
      "|  4| 28|         118624.0|  0.4806019230769256| 0.5528504545454149|                 1|                 2|            0.7|            15.0|      1|             10|                0.0|            1|              1|  11|     1.0|          4.4|          32|          3|     0|        0|      1|       0|            0|     0|       0|     0|         0|       0|    0|     0|      0|    0|     0|    0|     0|    0|      0|       0|         0|    0|           0|       0|    0|      0|      0|    0|        0|        0|     0|           0|         0|       0|      0|       0|     0|   0|     0|     0|    0|      0|      0|    0|         0|     0|      0|      0|   0|     0|      0|        0|    0|    0|            0|     0|     0|     0|      0|    0|             0|      0|            0|          0|     0|   0|       0|\n",
      "|  5| 33|         118629.0| -0.4946538461538846| 0.7433181818182409|                 1|                 2|            0.7|             6.0|      1|             17|                0.0|            1|              1|  11|     1.0|          4.6|          51|          3|     0|        0|      0|       1|            0|     0|       0|     0|         0|       0|    0|     0|      0|    0|     0|    0|     0|    0|      1|       0|         0|    0|           0|       0|    0|      0|      0|    0|        0|        0|     0|           0|         0|       0|      0|       0|     0|   0|     0|     0|    0|      0|      0|    0|         0|     0|      0|      0|   0|     0|      0|        0|    0|    0|            0|     0|     0|     0|      0|    0|             0|      0|            0|          0|     0|   0|       0|\n",
      "|  6| 43|         118639.0|-0.11500961538461092| 0.5459734090908435|                 1|                 2|            0.7|            15.0|      1|             15|                0.0|            1|              1|  11|     1.0|          4.3|           8|          3|     0|        0|      1|       0|            0|     0|       0|     0|         1|       0|    0|     0|      0|    0|     0|    0|     0|    1|      0|       1|         0|    0|           0|       0|    0|      0|      0|    0|        0|        0|     0|           0|         0|       0|      0|       0|     0|   0|     0|     0|    0|      0|      0|    0|         0|     0|      0|      0|   0|     0|      0|        0|    0|    0|            0|     0|     0|     0|      0|    0|             0|      0|            0|          0|     0|   0|       0|\n",
      "|  7| 44|         118640.0| -0.9365557692307772|0.08193295454534594|                 1|                 2|            0.7|            15.0|      1|             14|                0.0|            1|              1|  11|     1.0|          4.3|           8|          3|     0|        0|      1|       0|            0|     0|       0|     0|         1|       0|    0|     0|      0|    0|     0|    0|     0|    1|      0|       1|         0|    0|           0|       0|    0|      0|      0|    0|        0|        0|     0|           0|         0|       0|      0|       0|     0|   0|     0|     0|    0|      0|      0|    0|         0|     0|      0|      0|   0|     0|      0|        0|    0|    0|            0|     0|     0|     0|      0|    0|             0|      0|            0|          0|     0|   0|       0|\n",
      "|  8| 55|         118651.0| -1.1701538461538554|0.10347727272711042|                 1|                 2|            0.7|            10.0|      1|             19|                0.0|            1|              1|  11|     1.0|          4.5|          21|          3|     0|        1|      0|       1|            0|     1|       0|     1|         1|       0|    0|     0|      0|    0|     0|    1|     0|    0|      0|       0|         1|    0|           0|       0|    0|      0|      0|    0|        0|        0|     0|           0|         0|       0|      0|       0|     0|   0|     0|     0|    0|      0|      0|    0|         0|     0|      0|      0|   0|     0|      0|        0|    0|    0|            0|     0|     0|     0|      0|    0|             0|      0|            0|          0|     0|   0|       0|\n",
      "|  9| 66|         118662.0|  0.4874884615383899| 0.5650499999999972|                 1|                 2|            0.0|            15.0|      1|             20|               10.0|            1|              1|   1|     1.0|          4.0|         271|          3|     0|        1|      1|       1|            0|     0|       0|     1|         0|       0|    0|     0|      0|    0|     0|    0|     1|    0|      0|       0|         0|    0|           0|       0|    0|      0|      0|    0|        0|        0|     0|           0|         0|       0|      0|       0|     0|   0|     0|     0|    0|      0|      0|    0|         0|     0|      0|      0|   0|     0|      0|        0|    0|    0|            0|     0|     0|     0|      0|    0|             0|      0|            0|          0|     0|   0|       0|\n",
      "| 10| 67|         118663.0|-0.18103846153852332| 0.4905181818181887|                 1|                 2|            0.0|            15.0|      1|             15|                0.0|            1|              1|  11|     1.0|          4.3|         129|          3|     0|        1|      0|       1|            0|     1|       0|     1|         1|       0|    0|     0|      0|    0|     0|    1|     0|    0|      0|       0|         1|    0|           0|       0|    0|      0|      0|    0|        0|        0|     0|           0|         0|       0|      0|       0|     0|   0|     0|     0|    0|      0|      0|    0|         0|     0|      0|      0|   0|     0|      0|        0|    0|    0|            0|     0|     0|     0|      0|    0|             0|      0|            0|          0|     0|   0|       0|\n",
      "| 11| 75|         118672.0| -0.6004230769230746| 0.7559090909091579|                 1|                 2|            0.7|             5.0|      1|             15|                0.0|            1|              1|  11|     1.0|          4.6|           0|          3|     0|        0|      0|       1|            0|     0|       0|     1|         0|       0|    0|     0|      0|    0|     0|    0|     0|    0|      0|       0|         0|    1|           1|       1|    1|      0|      0|    0|        0|        0|     0|           0|         0|       0|      0|       0|     0|   0|     0|     0|    0|      0|      0|    0|         0|     0|      0|      0|   0|     0|      0|        0|    0|    0|            0|     0|     0|     0|      0|    0|             0|      0|            0|          0|     0|   0|       0|\n",
      "| 12| 76|         118673.0|  0.2563346153846161| 0.5766695454543093|                 1|                 2|            0.7|            15.0|      1|             15|                0.0|            1|              1|  11|     1.0|          4.6|          24|          3|     0|        1|      1|       0|            0|     0|       0|     0|         1|       0|    0|     0|      0|    0|     0|    0|     0|    0|      0|       0|         0|    0|           0|       0|    0|      1|      0|    0|        0|        0|     0|           0|         0|       0|      0|       0|     0|   0|     0|     0|    0|      0|      0|    0|         0|     0|      0|      0|   0|     0|      0|        0|    0|    0|            0|     0|     0|     0|      0|    0|             0|      0|            0|          0|     0|   0|       0|\n",
      "| 13| 78|         118675.0| -0.5554038461538193|0.19633636363636345|                 1|                 2|            0.7|            15.0|      0|             17|                0.0|            0|              1|  11|     1.0|          4.4|           0|          3|     0|        1|      0|       1|            0|     0|       0|     1|         0|       0|    0|     0|      1|    1|     1|    1|     0|    0|      0|       0|         0|    0|           0|       0|    0|      0|      0|    0|        0|        0|     0|           0|         0|       0|      0|       0|     0|   0|     0|     0|    0|      0|      0|    0|         0|     0|      0|      0|   0|     0|      0|        0|    0|    0|            0|     0|     0|     0|      0|    0|             0|      0|            0|          0|     0|   0|       0|\n",
      "| 14| 79|         118676.0|  0.6346538461538463| 0.5272545454546894|                 1|                 2|            0.0|            15.0|      1|             15|                0.0|            1|              1|  11|     1.0|          4.7|         323|          3|     0|        0|      1|       1|            1|     0|       0|     0|         1|       0|    0|     0|      0|    1|     0|    0|     0|    0|      0|       0|         0|    0|           0|       0|    0|      0|      0|    0|        0|        0|     0|           0|         0|       0|      0|       0|     0|   0|     0|     0|    0|      0|      0|    0|         0|     0|      0|      0|   0|     0|      0|        0|    0|    0|            0|     0|     0|     0|      0|    0|             0|      0|            0|          0|     0|   0|       0|\n",
      "| 15| 81|         118678.0| -0.7119615384615503| 0.0633681818179358|                 1|                 2|            0.0|            15.0|      1|             15|                0.0|            1|              1|  11|     1.0|          3.8|           0|          3|     1|        1|      0|       1|            0|     0|       0|     1|         1|       0|    0|     0|      0|    0|     0|    0|     0|    0|      0|       0|         0|    0|           0|       0|    0|      0|      1|    1|        0|        0|     0|           0|         0|       0|      0|       0|     0|   0|     0|     0|    0|      0|      0|    0|         0|     0|      0|      0|   0|     0|      0|        0|    0|    0|            0|     0|     0|     0|      0|    0|             0|      0|            0|          0|     0|   0|       0|\n",
      "| 16| 82|         118679.0| -0.4171923076923129| 0.6458500000000037|                 1|                 2|            0.7|             8.0|      1|             11|                0.0|            1|              1|  11|     1.0|          4.4|         134|          3|     0|        1|      0|       1|            0|     0|       1|     1|         1|       0|    0|     0|      0|    0|     1|    0|     0|    0|      0|       0|         0|    0|           0|       0|    0|      0|      0|    0|        1|        0|     0|           0|         0|       0|      0|       0|     0|   0|     0|     0|    0|      0|      0|    0|         0|     0|      0|      0|   0|     0|      0|        0|    0|    0|            0|     0|     0|     0|      0|    0|             0|      0|            0|          0|     0|   0|       0|\n",
      "| 17| 83|         118680.0|  -0.927944230769241|0.14589954545430453|                 1|                 2|            0.7|            15.0|      1|             15|                0.0|            1|              1|  11|     1.0|          4.2|           0|          3|     1|        1|      0|       1|            0|     0|       0|     1|         0|       0|    0|     0|      0|    0|     0|    0|     0|    0|      0|       0|         0|    0|           0|       0|    0|      0|      0|    0|        0|        0|     0|           0|         0|       0|      0|       0|     0|   0|     0|     0|    0|      0|      0|    0|         0|     0|      0|      0|   0|     0|      0|        0|    0|    0|            0|     0|     0|     0|      0|    0|             0|      0|            0|          0|     0|   0|       0|\n",
      "| 18| 84|         118681.0|  -1.004923076923082|0.07873636363634817|                 1|                 2|            0.0|            15.0|      1|             14|                0.0|            1|              1|  11|     1.0|          4.3|          90|          3|     0|        0|      1|       0|            0|     0|       0|     0|         0|       1|    0|     0|      0|    0|     0|    0|     0|    1|      0|       0|         0|    0|           0|       0|    0|      0|      0|    0|        0|        1|     0|           0|         0|       0|      0|       0|     0|   0|     0|     0|    0|      0|      0|    0|         0|     0|      0|      0|   0|     0|      0|        0|    0|    0|            0|     0|     0|     0|      0|    0|             0|      0|            0|          0|     0|   0|       0|\n",
      "| 19| 85|         118682.0| -0.6001730769230909| 0.7558613636363735|                 2|                 3|            0.0|             5.0|      1|             15|               50.0|            1|              1|  11|     1.0|          4.6|           0|          3|     0|        0|      0|       1|            0|     0|       0|     0|         0|       0|    0|     0|      0|    0|     0|    0|     0|    0|      0|       0|         0|    0|           0|       0|    0|      0|      0|    1|        0|        0|     0|           0|         0|       0|      0|       0|     0|   0|     0|     0|    0|      0|      0|    0|         0|     0|      0|      0|   0|     0|      0|        0|    0|    0|            0|     0|     0|     0|      0|    0|             0|      0|            0|          0|     0|   0|       0|\n",
      "+---+---+-----------------+--------------------+-------------------+------------------+------------------+---------------+----------------+-------+---------------+-------------------+-------------+---------------+----+--------+-------------+------------+-----------+------+---------+-------+--------+-------------+------+--------+------+----------+--------+-----+------+-------+-----+------+-----+------+-----+-------+--------+----------+-----+------------+--------+-----+-------+-------+-----+---------+---------+------+------------+----------+--------+-------+--------+------+----+------+------+-----+-------+-------+-----+----------+------+-------+-------+----+------+-------+---------+-----+-----+-------------+------+------+------+-------+-----+--------------+-------+-------------+-----------+------+----+--------+\n",
      "only showing top 20 rows\n",
      "\n"
     ]
    }
   ],
   "source": [
    "ven.show()"
   ]
  },
  {
   "cell_type": "code",
   "execution_count": 7,
   "metadata": {},
   "outputs": [],
   "source": [
    "ven.write.format(\"mongo\").mode(\"overwrite\").save()"
   ]
  },
  {
   "cell_type": "code",
   "execution_count": 8,
   "metadata": {},
   "outputs": [
    {
     "name": "stdout",
     "output_type": "stream",
     "text": [
      "root\n",
      " |-- American: integer (nullable = true)\n",
      " |-- Arabic: integer (nullable = true)\n",
      " |-- Asian: integer (nullable = true)\n",
      " |-- Bagels: integer (nullable = true)\n",
      " |-- Biryani: integer (nullable = true)\n",
      " |-- Breakfast: integer (nullable = true)\n",
      " |-- Burgers: integer (nullable = true)\n",
      " |-- Cafe: integer (nullable = true)\n",
      " |-- Cakes: integer (nullable = true)\n",
      " |-- Chinese: integer (nullable = true)\n",
      " |-- Churros: integer (nullable = true)\n",
      " |-- Coffee: integer (nullable = true)\n",
      " |-- Combos: integer (nullable = true)\n",
      " |-- Crepes: integer (nullable = true)\n",
      " |-- Desserts: integer (nullable = true)\n",
      " |-- Dimsum: integer (nullable = true)\n",
      " |-- Donuts: integer (nullable = true)\n",
      " |-- Family Meal: integer (nullable = true)\n",
      " |-- Fatayers: integer (nullable = true)\n",
      " |-- Free Delivery: integer (nullable = true)\n",
      " |-- Fresh Juices: integer (nullable = true)\n",
      " |-- Fries: integer (nullable = true)\n",
      " |-- Frozen yoghurt: integer (nullable = true)\n",
      " |-- Grills: integer (nullable = true)\n",
      " |-- Healthy Food: integer (nullable = true)\n",
      " |-- Hot Chocolate: integer (nullable = true)\n",
      " |-- Hot Dogs: integer (nullable = true)\n",
      " |-- Ice creams: integer (nullable = true)\n",
      " |-- Indian: integer (nullable = true)\n",
      " |-- Italian: integer (nullable = true)\n",
      " |-- Japanese: integer (nullable = true)\n",
      " |-- Karak: integer (nullable = true)\n",
      " |-- Kebabs: integer (nullable = true)\n",
      " |-- Kids meal: integer (nullable = true)\n",
      " |-- Kushari: integer (nullable = true)\n",
      " |-- Lebanese: integer (nullable = true)\n",
      " |-- Manakeesh: integer (nullable = true)\n",
      " |-- Mandazi: integer (nullable = true)\n",
      " |-- Mexican: integer (nullable = true)\n",
      " |-- Milkshakes: integer (nullable = true)\n",
      " |-- Mishkak: integer (nullable = true)\n",
      " |-- Mojitos: integer (nullable = true)\n",
      " |-- Omani: integer (nullable = true)\n",
      " |-- Organic: integer (nullable = true)\n",
      " |-- Pancakes: integer (nullable = true)\n",
      " |-- Pasta: integer (nullable = true)\n",
      " |-- Pastas: integer (nullable = true)\n",
      " |-- Pastry: integer (nullable = true)\n",
      " |-- Pizza: integer (nullable = true)\n",
      " |-- Pizzas: integer (nullable = true)\n",
      " |-- Rice: integer (nullable = true)\n",
      " |-- Rolls: integer (nullable = true)\n",
      " |-- Salads: integer (nullable = true)\n",
      " |-- Sandwiches: integer (nullable = true)\n",
      " |-- Seafood: integer (nullable = true)\n",
      " |-- Shawarma: integer (nullable = true)\n",
      " |-- Shuwa: integer (nullable = true)\n",
      " |-- Smoothies: integer (nullable = true)\n",
      " |-- Soups: integer (nullable = true)\n",
      " |-- Spanish Latte: integer (nullable = true)\n",
      " |-- Steaks: integer (nullable = true)\n",
      " |-- Sushi: integer (nullable = true)\n",
      " |-- Sweets: integer (nullable = true)\n",
      " |-- Thai: integer (nullable = true)\n",
      " |-- Thali: integer (nullable = true)\n",
      " |-- Vegetarian: integer (nullable = true)\n",
      " |-- Waffles: integer (nullable = true)\n",
      " |-- _c0: integer (nullable = true)\n",
      " |-- _id: struct (nullable = true)\n",
      " |    |-- oid: string (nullable = true)\n",
      " |-- authentication_id: double (nullable = true)\n",
      " |-- delivery_charge: double (nullable = true)\n",
      " |-- device_type: integer (nullable = true)\n",
      " |-- discount_percentage: double (nullable = true)\n",
      " |-- id: integer (nullable = true)\n",
      " |-- is_open: integer (nullable = true)\n",
      " |-- language: double (nullable = true)\n",
      " |-- latitude_vendor: double (nullable = true)\n",
      " |-- longitude_vendor: double (nullable = true)\n",
      " |-- prepration_time: integer (nullable = true)\n",
      " |-- primary_tags: integer (nullable = true)\n",
      " |-- rank: integer (nullable = true)\n",
      " |-- serving_distance: double (nullable = true)\n",
      " |-- status_vendor: integer (nullable = true)\n",
      " |-- vendor_category_en: integer (nullable = true)\n",
      " |-- vendor_category_id: integer (nullable = true)\n",
      " |-- vendor_rating: double (nullable = true)\n",
      " |-- verified_vendor: integer (nullable = true)\n",
      "\n"
     ]
    }
   ],
   "source": [
    "df = my_spark.read.format(\"mongo\").load()\n",
    "df.printSchema()"
   ]
  },
  {
   "cell_type": "code",
   "execution_count": null,
   "metadata": {},
   "outputs": [],
   "source": []
  }
 ],
 "metadata": {
  "kernelspec": {
   "display_name": "Python 3",
   "language": "python",
   "name": "python3"
  },
  "language_info": {
   "codemirror_mode": {
    "name": "ipython",
    "version": 3
   },
   "file_extension": ".py",
   "mimetype": "text/x-python",
   "name": "python",
   "nbconvert_exporter": "python",
   "pygments_lexer": "ipython3",
   "version": "3.8.3"
  }
 },
 "nbformat": 4,
 "nbformat_minor": 4
}
