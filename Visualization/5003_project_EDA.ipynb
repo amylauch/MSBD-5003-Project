{
 "cells": [
  {
   "cell_type": "code",
   "execution_count": 1,
   "metadata": {},
   "outputs": [],
   "source": [
    "import pandas as pd\n",
    "import numpy as np\n",
    "import matplotlib.pyplot as plt\n",
    "import geopandas as gpd\n",
    "import folium\n",
    "from folium.plugins import HeatMap\n",
    "import re\n",
    "%matplotlib inline"
   ]
  },
  {
   "cell_type": "code",
   "execution_count": 27,
   "metadata": {},
   "outputs": [],
   "source": [
    "# df_orders = spark.read.csv('/home/gwq/5003/cleaned_orders.csv',header=True, inferSchema=True, sep=',')\n",
    "# df_vendor = spark.read.csv('/home/gwq/5003/cleaned_vendors.csv',header=True, inferSchema=True, sep=',')\n",
    "df_customer = spark.read.csv('/home/gwq/5003/cleaned_train_customer.csv',header=True, inferSchema=True, sep=',')\n",
    "# df_customer_location = spark.read.csv('/home/gwq/5003/cleaned_train_locations.csv',header=True, inferSchema=True, sep=',')\n"
   ]
  },
  {
   "cell_type": "markdown",
   "metadata": {},
   "source": [
    "## **vendors**"
   ]
  },
  {
   "cell_type": "code",
   "execution_count": 48,
   "metadata": {},
   "outputs": [],
   "source": [
    "df_vendor=df_vendor.select('*').withColumnRenamed('id','vendor_id')"
   ]
  },
  {
   "cell_type": "code",
   "execution_count": 85,
   "metadata": {},
   "outputs": [],
   "source": [
    "# df_vendor.columns"
   ]
  },
  {
   "cell_type": "code",
   "execution_count": 5,
   "metadata": {},
   "outputs": [],
   "source": [
    "df_vendor_category = df_vendor.groupby('vendor_category_en')\\\n",
    "                     .count()\\\n",
    "                    .withColumnRenamed('vendor_category_en', 'category')\\\n",
    "                    .withColumnRenamed('count', 'number')"
   ]
  },
  {
   "cell_type": "code",
   "execution_count": 10,
   "metadata": {
    "scrolled": true
   },
   "outputs": [],
   "source": [
    "df_vendor_category=df_vendor_category.toPandas()\n",
    "# df_vendor_category"
   ]
  },
  {
   "cell_type": "code",
   "execution_count": 17,
   "metadata": {},
   "outputs": [
    {
     "data": {
      "image/png": "[encoded data removed]",
      "text/plain": [
       "<Figure size 432x288 with 1 Axes>"
      ]
     },
     "metadata": {
      "needs_background": "light"
     },
     "output_type": "display_data"
    }
   ],
   "source": [
    "plt.bar(['restaurant','Sweets & Bakes'],df_vendor_category.number,alpha=0.8,width=0.5,color='steelblue',edgecolor='white')\n",
    "plt.title(\"vendor's category\", fontsize=20)\n",
    "plt.ylabel('number', fontsize=15)\n",
    "\n",
    "plt.show()"
   ]
  },
  {
   "cell_type": "code",
   "execution_count": 22,
   "metadata": {},
   "outputs": [
    {
     "data": {
      "image/png": "[encoded data removed]",
      "text/plain": [
       "<Figure size 576x288 with 1 Axes>"
      ]
     },
     "metadata": {
      "needs_background": "light"
     },
     "output_type": "display_data"
    }
   ],
   "source": [
    "df_vendor_dis = df_vendor.select('serving_distance').toPandas()\n",
    "df_vendor_dis\n",
    "plt.figure(figsize=(8, 4))\n",
    "plt.hist(df_vendor_dis['serving_distance'],bins=13,alpha=0.8)\n",
    "plt.title(\"average_distance distribution\", fontsize=20)\n",
    "plt.show()"
   ]
  },
  {
   "cell_type": "code",
   "execution_count": 23,
   "metadata": {},
   "outputs": [],
   "source": [
    "df_vendor_distance = df_vendor.select('serving_distance','vendor_category_en')\\\n",
    "                    .groupby('vendor_category_en').avg('serving_distance')\\\n",
    "                    .withColumnRenamed('avg(serving_distance)', 'avg_ser_dis').toPandas()"
   ]
  },
  {
   "cell_type": "code",
   "execution_count": 24,
   "metadata": {},
   "outputs": [
    {
     "data": {
      "text/html": [
       "<div>\n",
       "<style scoped>\n",
       "    .dataframe tbody tr th:only-of-type {\n",
       "        vertical-align: middle;\n",
       "    }\n",
       "\n",
       "    .dataframe tbody tr th {\n",
       "        vertical-align: top;\n",
       "    }\n",
       "\n",
       "    .dataframe thead th {\n",
       "        text-align: right;\n",
       "    }\n",
       "</style>\n",
       "<table border=\"1\" class=\"dataframe\">\n",
       "  <thead>\n",
       "    <tr style=\"text-align: right;\">\n",
       "      <th></th>\n",
       "      <th>vendor_category_en</th>\n",
       "      <th>avg_ser_dis</th>\n",
       "    </tr>\n",
       "  </thead>\n",
       "  <tbody>\n",
       "    <tr>\n",
       "      <th>0</th>\n",
       "      <td>1</td>\n",
       "      <td>11.590909</td>\n",
       "    </tr>\n",
       "    <tr>\n",
       "      <th>1</th>\n",
       "      <td>2</td>\n",
       "      <td>12.916667</td>\n",
       "    </tr>\n",
       "  </tbody>\n",
       "</table>\n",
       "</div>"
      ],
      "text/plain": [
       "   vendor_category_en  avg_ser_dis\n",
       "0                   1    11.590909\n",
       "1                   2    12.916667"
      ]
     },
     "execution_count": 24,
     "metadata": {},
     "output_type": "execute_result"
    }
   ],
   "source": [
    "df_vendor_distance"
   ]
  },
  {
   "cell_type": "code",
   "execution_count": 26,
   "metadata": {},
   "outputs": [
    {
     "data": {
      "image/png": "[encoded data removed]",
      "text/plain": [
       "<Figure size 432x288 with 1 Axes>"
      ]
     },
     "metadata": {
      "needs_background": "light"
     },
     "output_type": "display_data"
    }
   ],
   "source": [
    "plt.bar(['restaurant','Sweets & Bakes'],df_vendor_distance.avg_ser_dis,alpha=0.8,width=0.5,color='steelblue',edgecolor='white')\n",
    "# plt.title(\"vendor's average service distance\", fontsize=18)\n",
    "plt.ylabel('avg_ser_dis', fontsize=12)\n",
    "\n",
    "plt.show()"
   ]
  },
  {
   "cell_type": "code",
   "execution_count": 28,
   "metadata": {},
   "outputs": [],
   "source": [
    "df_pre_time = df_vendor.select('prepration_time').toPandas()"
   ]
  },
  {
   "cell_type": "code",
   "execution_count": 29,
   "metadata": {},
   "outputs": [
    {
     "data": {
      "image/png": "[encoded data removed]",
      "text/plain": [
       "<Figure size 432x288 with 1 Axes>"
      ]
     },
     "metadata": {
      "needs_background": "light"
     },
     "output_type": "display_data"
    }
   ],
   "source": [
    "plt.hist(df_pre_time['prepration_time'],color='#87CEFA',alpha=0.8)\n",
    "plt.title(\"preparation distribution\", fontsize=20)\n",
    "plt.show()"
   ]
  },
  {
   "cell_type": "code",
   "execution_count": 30,
   "metadata": {},
   "outputs": [],
   "source": [
    "df_vendor_pretime = df_vendor.select('prepration_time','vendor_category_en')\\\n",
    "                            .groupby('vendor_category_en').avg('prepration_time')\\\n",
    "                            .withColumnRenamed('avg(prepration_time)', 'avg_pretime').toPandas()"
   ]
  },
  {
   "cell_type": "code",
   "execution_count": 34,
   "metadata": {},
   "outputs": [
    {
     "data": {
      "image/png": "[encoded data removed]",
      "text/plain": [
       "<Figure size 432x288 with 1 Axes>"
      ]
     },
     "metadata": {
      "needs_background": "light"
     },
     "output_type": "display_data"
    }
   ],
   "source": [
    "plt.bar(['restaurant','Sweets & Bakes'],df_vendor_pretime.avg_pretime,alpha=0.8,width=0.5,color='steelblue',edgecolor='white')\n",
    "# plt.title(\"vendor's average preparation time \", fontsize=18)\n",
    "plt.ylabel('avg_pretime', fontsize=12)\n",
    "\n",
    "plt.show()"
   ]
  },
  {
   "cell_type": "code",
   "execution_count": 36,
   "metadata": {},
   "outputs": [],
   "source": [
    "df_rating_pretime = df_vendor.select('vendor_rating','prepration_time').distinct().toPandas()"
   ]
  },
  {
   "cell_type": "code",
   "execution_count": 38,
   "metadata": {},
   "outputs": [],
   "source": [
    "df_rating = df_vendor.select('vendor_rating').toPandas()"
   ]
  },
  {
   "cell_type": "code",
   "execution_count": 39,
   "metadata": {},
   "outputs": [
    {
     "data": {
      "image/png": "[encoded data removed]",
      "text/plain": [
       "<Figure size 432x288 with 1 Axes>"
      ]
     },
     "metadata": {
      "needs_background": "light"
     },
     "output_type": "display_data"
    }
   ],
   "source": [
    "plt.hist(df_rating['vendor_rating'],color='#87CEFA',alpha=0.8)\n",
    "plt.title(\"rating distribution\", fontsize=20)\n",
    "plt.show()"
   ]
  },
  {
   "cell_type": "code",
   "execution_count": 41,
   "metadata": {},
   "outputs": [
    {
     "data": {
      "text/plain": [
       "Text(0.5, 0, 'rating')"
      ]
     },
     "execution_count": 41,
     "metadata": {},
     "output_type": "execute_result"
    },
    {
     "data": {
      "image/png": "[encoded data removed]",
      "text/plain": [
       "<Figure size 576x288 with 1 Axes>"
      ]
     },
     "metadata": {
      "needs_background": "light"
     },
     "output_type": "display_data"
    }
   ],
   "source": [
    "plt.figure(figsize=(8, 4))\n",
    "plt.scatter(df_rating_pretime.vendor_rating,df_rating_pretime.prepration_time,alpha=1,color='steelblue')\n",
    "# plt.title(\"relationship between rating and  preparatime\", fontsize=18)\n",
    "plt.ylabel('pretime', fontsize=12)\n",
    "plt.xlabel('rating', fontsize=12)"
   ]
  },
  {
   "cell_type": "markdown",
   "metadata": {},
   "source": [
    "# **customer**"
   ]
  },
  {
   "cell_type": "code",
   "execution_count": 10,
   "metadata": {},
   "outputs": [],
   "source": [
    "df_customer=df_customer.select('*').withColumnRenamed('akeed_customer_id','customer_id')"
   ]
  },
  {
   "cell_type": "code",
   "execution_count": 24,
   "metadata": {},
   "outputs": [
    {
     "ename": "TypeError",
     "evalue": "'Column' object is not callable",
     "output_type": "error",
     "traceback": [
      "\u001b[0;31m---------------------------------------------------------------------------\u001b[0m",
      "\u001b[0;31mTypeError\u001b[0m                                 Traceback (most recent call last)",
      "\u001b[0;32m<ipython-input-24-264c95daef40>\u001b[0m in \u001b[0;36m<module>\u001b[0;34m\u001b[0m\n\u001b[0;32m----> 1\u001b[0;31m \u001b[0mdf_customer\u001b[0m\u001b[0;34m[\u001b[0m\u001b[0;34m'gender'\u001b[0m\u001b[0;34m]\u001b[0m\u001b[0;34m.\u001b[0m\u001b[0mfillna\u001b[0m\u001b[0;34m(\u001b[0m\u001b[0;36m0\u001b[0m\u001b[0;34m,\u001b[0m \u001b[0minplace\u001b[0m\u001b[0;34m=\u001b[0m\u001b[0;32mTrue\u001b[0m\u001b[0;34m)\u001b[0m\u001b[0;34m\u001b[0m\u001b[0;34m\u001b[0m\u001b[0m\n\u001b[0m",
      "\u001b[0;31mTypeError\u001b[0m: 'Column' object is not callable"
     ]
    }
   ],
   "source": [
    "df_customer['gender'].fillna(0, inplace=True)"
   ]
  },
  {
   "cell_type": "code",
   "execution_count": 11,
   "metadata": {},
   "outputs": [
    {
     "data": {
      "text/plain": [
       "['_c0',\n",
       " 'customer_id',\n",
       " 'gender',\n",
       " 'dob',\n",
       " 'status_customer',\n",
       " 'verified_customer',\n",
       " 'language_customer']"
      ]
     },
     "execution_count": 11,
     "metadata": {},
     "output_type": "execute_result"
    }
   ],
   "source": [
    "df_customer.columns"
   ]
  },
  {
   "cell_type": "code",
   "execution_count": 28,
   "metadata": {},
   "outputs": [],
   "source": [
    "df_customer_gender = df_customer.dropna().groupby('gender').count().\\\n",
    "                    withColumnRenamed('count','number').toPandas()"
   ]
  },
  {
   "cell_type": "code",
   "execution_count": 29,
   "metadata": {},
   "outputs": [
    {
     "data": {
      "text/html": [
       "<div>\n",
       "<style scoped>\n",
       "    .dataframe tbody tr th:only-of-type {\n",
       "        vertical-align: middle;\n",
       "    }\n",
       "\n",
       "    .dataframe tbody tr th {\n",
       "        vertical-align: top;\n",
       "    }\n",
       "\n",
       "    .dataframe thead th {\n",
       "        text-align: right;\n",
       "    }\n",
       "</style>\n",
       "<table border=\"1\" class=\"dataframe\">\n",
       "  <thead>\n",
       "    <tr style=\"text-align: right;\">\n",
       "      <th></th>\n",
       "      <th>gender</th>\n",
       "      <th>number</th>\n",
       "    </tr>\n",
       "  </thead>\n",
       "  <tbody>\n",
       "    <tr>\n",
       "      <th>0</th>\n",
       "      <td>0.0</td>\n",
       "      <td>12154</td>\n",
       "    </tr>\n",
       "    <tr>\n",
       "      <th>1</th>\n",
       "      <td>1.0</td>\n",
       "      <td>20738</td>\n",
       "    </tr>\n",
       "    <tr>\n",
       "      <th>2</th>\n",
       "      <td>2.0</td>\n",
       "      <td>1779</td>\n",
       "    </tr>\n",
       "  </tbody>\n",
       "</table>\n",
       "</div>"
      ],
      "text/plain": [
       "   gender  number\n",
       "0     0.0   12154\n",
       "1     1.0   20738\n",
       "2     2.0    1779"
      ]
     },
     "execution_count": 29,
     "metadata": {},
     "output_type": "execute_result"
    }
   ],
   "source": [
    "# df_customer_gender.loc['gender']= 1\n",
    "df_customer_gender"
   ]
  },
  {
   "cell_type": "code",
   "execution_count": 33,
   "metadata": {},
   "outputs": [
    {
     "data": {
      "image/png": "[encoded data removed]",
      "text/plain": [
       "<Figure size 432x288 with 1 Axes>"
      ]
     },
     "metadata": {
      "needs_background": "light"
     },
     "output_type": "display_data"
    }
   ],
   "source": [
    "plt.bar(['female','male'],df_customer_gender.number[1:],alpha=0.8,width=0.5,color='mediumpurple',edgecolor='darkslateblue')\n",
    "plt.title(\"customer's gender\", fontsize=18)\n",
    "plt.ylabel('amount', fontsize=12)\n",
    "\n",
    "plt.show()"
   ]
  },
  {
   "cell_type": "code",
   "execution_count": 34,
   "metadata": {},
   "outputs": [],
   "source": [
    "def calc_age(year):\n",
    "    if len(str(year))==2:\n",
    "        if str(year).startswith('0'):\n",
    "            year = '20'+str(year)\n",
    "        else:\n",
    "            year = '19'+str(year)\n",
    "        year = int(year)\n",
    "    if year is None:\n",
    "        return np.nan\n",
    "    return 2020-year\n",
    "df = df_customer.toPandas()\n",
    "df.loc[:, 'age'] = df['dob'].apply(calc_age)\n",
    "# df_customer[customers['age']<16]"
   ]
  },
  {
   "cell_type": "code",
   "execution_count": 35,
   "metadata": {},
   "outputs": [
    {
     "data": {
      "image/png": "[encoded data removed]",
      "text/plain": [
       "<Figure size 432x288 with 1 Axes>"
      ]
     },
     "metadata": {
      "needs_background": "light"
     },
     "output_type": "display_data"
    }
   ],
   "source": [
    "cc=df.values.tolist()\n",
    "\n",
    "dd=list(df.columns)\n",
    "df_customer = spark.createDataFrame(cc, dd)\n",
    "df_age = df_customer.select('age').filter('age>16').filter('age<110').toPandas()\n",
    "# df_age['age'].unique()\n",
    "# ages = df[df['age']>16]\n",
    "# ages = ages[ages['age']<110]\n",
    "plt.hist(df_age['age'].dropna(),color='mediumpurple',alpha=0.8)\n",
    "plt.title(\"customer's age distribution\", fontsize=20)\n",
    "plt.show()"
   ]
  },
  {
   "cell_type": "code",
   "execution_count": 50,
   "metadata": {},
   "outputs": [
    {
     "data": {
      "image/png": "[encoded data removed]",
      "text/plain": [
       "<Figure size 432x288 with 1 Axes>"
      ]
     },
     "metadata": {
      "needs_background": "light"
     },
     "output_type": "display_data"
    }
   ],
   "source": [
    "df_lotp = df_customer_location.groupby('location_type').count().\\\n",
    "        withColumnRenamed('count','number').toPandas()\n",
    "plt.bar(['work','others','home'],df_lotp.number[:-1],alpha=0.8,width=0.5,color='mediumpurple',edgecolor='darkslateblue')\n",
    "plt.title(\"customer's location type\", fontsize=18)\n",
    "plt.ylabel('amount', fontsize=12)\n",
    "\n",
    "plt.show()"
   ]
  },
  {
   "cell_type": "code",
   "execution_count": 51,
   "metadata": {},
   "outputs": [],
   "source": [
    "df_locs=df_customer_location.toPandas()"
   ]
  },
  {
   "cell_type": "code",
   "execution_count": 52,
   "metadata": {},
   "outputs": [],
   "source": [
    "def check_num(string):\n",
    "    regex = r'-?[0-9]*.[0-9]*'\n",
    "    m = re.match(regex, string)\n",
    "    if m is None:\n",
    "        return float(0)\n",
    "    return float(string[:6])\n",
    "\n",
    "# df_locs['latitude'] = df_locs['latitude'].apply(check_num)\n",
    "# df_locs['longitude'] = df_locs['longitude'].apply(check_num)\n",
    "# df_locs['geometry'] = gpd.points_from_xy(df_locs['longitude'], df_locs['latitude'])"
   ]
  },
  {
   "cell_type": "code",
   "execution_count": 54,
   "metadata": {},
   "outputs": [],
   "source": [
    "# df_locs.dropna()\n",
    "# m = folium.Map(location=[50,-85], zoom_start=2)\n",
    "# for i in list(df_locs.index)[:200]:\n",
    "#     folium.Marker([df_locs.loc[i, 'latitude'], df_locs.loc[i, 'longitude']]).add_to(m)\n",
    "# m"
   ]
  },
  {
   "cell_type": "markdown",
   "metadata": {},
   "source": [
    "# orders"
   ]
  },
  {
   "cell_type": "code",
   "execution_count": 45,
   "metadata": {},
   "outputs": [
    {
     "data": {
      "text/plain": [
       "['_c0',\n",
       " 'akeed_order_id',\n",
       " 'customer_id',\n",
       " 'item_count',\n",
       " 'grand_total',\n",
       " 'payment_mode',\n",
       " 'promo_code',\n",
       " 'vendor_discount_amount',\n",
       " 'promo_code_discount_percentage',\n",
       " 'is_favorite',\n",
       " 'is_rated',\n",
       " 'vendor_rating',\n",
       " 'driver_rating',\n",
       " 'deliverydistance',\n",
       " 'preparationtime',\n",
       " 'delivery_time',\n",
       " 'order_accepted_time',\n",
       " 'driver_accepted_time',\n",
       " 'ready_for_pickup_time',\n",
       " 'picked_up_time',\n",
       " 'delivered_time',\n",
       " 'delivery_date',\n",
       " 'vendor_id',\n",
       " 'created_at',\n",
       " 'LOCATION_NUMBER',\n",
       " 'LOCATION_TYPE',\n",
       " 'CID X LOC_NUM X VENDOR']"
      ]
     },
     "execution_count": 45,
     "metadata": {},
     "output_type": "execute_result"
    }
   ],
   "source": [
    "df_orders.columns"
   ]
  },
  {
   "cell_type": "code",
   "execution_count": 50,
   "metadata": {},
   "outputs": [
    {
     "name": "stdout",
     "output_type": "stream",
     "text": [
      "+---------+------+---------------+------------------+----------------+---------------+-------------+\n",
      "|vendor_id|amount|prepration_time|vendor_category_en|serving_distance|delivery_charge|vendor_rating|\n",
      "+---------+------+---------------+------------------+----------------+---------------+-------------+\n",
      "|      113|  7456|             10|                 1|            15.0|            0.0|          4.7|\n",
      "|      105|  5217|             12|                 1|            15.0|            0.0|          4.5|\n",
      "|       79|  5065|             15|                 1|            15.0|            0.0|          4.7|\n",
      "|       84|  4951|             14|                 1|            15.0|            0.0|          4.3|\n",
      "|       78|  3914|             17|                 1|            15.0|            0.7|          4.4|\n",
      "|      386|  3260|             15|                 2|            15.0|            0.0|          4.5|\n",
      "|       83|  3074|             15|                 1|            15.0|            0.7|          4.2|\n",
      "|       86|  2824|             13|                 2|            15.0|            0.0|          4.5|\n",
      "|      846|  2559|             10|                 1|             6.0|            0.0|          4.1|\n",
      "|      106|  2166|             10|                 1|            15.0|            0.0|          4.5|\n",
      "|      189|  2064|             10|                 1|            15.0|            0.7|          4.3|\n",
      "|        4|  1987|             15|                 1|             6.0|            0.0|          4.4|\n",
      "|      159|  1970|             13|                 1|             6.0|            0.0|          4.5|\n",
      "|       33|  1822|             17|                 1|             6.0|            0.7|          4.6|\n",
      "|       85|  1815|             15|                 2|             5.0|            0.0|          4.6|\n",
      "|      195|  1745|             15|                 1|            15.0|            0.7|          4.2|\n",
      "|      157|  1656|             15|                 1|            15.0|            0.7|          4.3|\n",
      "|      356|  1617|             15|                 1|            15.0|            0.0|          4.2|\n",
      "|      104|  1604|             10|                 1|             2.0|            0.0|          4.5|\n",
      "|      191|  1600|             11|                 1|             8.0|            0.7|          4.5|\n",
      "+---------+------+---------------+------------------+----------------+---------------+-------------+\n",
      "only showing top 20 rows\n",
      "\n"
     ]
    }
   ],
   "source": [
    "df_orders.groupby('vendor_id').count()\\\n",
    "        .withColumnRenamed('count','amount')\\\n",
    "        .join(df_vendor.select('vendor_id','prepration_time','vendor_category_en',\n",
    "                               'serving_distance','delivery_charge','vendor_rating'),\n",
    "              'vendor_id','left_outer')\\\n",
    "        .orderBy('amount', ascending=False)\\\n",
    "        .show()"
   ]
  },
  {
   "cell_type": "code",
   "execution_count": 53,
   "metadata": {},
   "outputs": [],
   "source": [
    "df1=df_orders.groupby('customer_id').count()\\\n",
    "        .withColumnRenamed('count','amount')\\\n",
    "        .join(df_customer.select('gender','customer_id'),'customer_id','left_outer')\\\n",
    "        .orderBy('amount',ascending=False)"
   ]
  },
  {
   "cell_type": "code",
   "execution_count": 65,
   "metadata": {},
   "outputs": [],
   "source": [
    "df2=df_orders.select('customer_id','item_count','grand_total',).groupby('customer_id').avg('grand_total','item_count')\\\n",
    "        .withColumnRenamed('avg(item_count)','avg_item')\\\n",
    "        .withColumnRenamed('avg(grand_total)','avg_total')\\\n",
    "        .orderBy('avg_total','avg_item',ascending=False)"
   ]
  },
  {
   "cell_type": "code",
   "execution_count": 68,
   "metadata": {},
   "outputs": [
    {
     "name": "stdout",
     "output_type": "stream",
     "text": [
      "+-----------+------+------+------------------+--------+\n",
      "|customer_id|amount|gender|         avg_total|avg_item|\n",
      "+-----------+------+------+------------------+--------+\n",
      "|    HPERFQJ|     1|   1.0|             783.8|    68.0|\n",
      "|    AAJY8DZ|     1|   0.0|             212.0|    14.0|\n",
      "|    L4Y9P84|     1|   2.0|             169.7|     4.0|\n",
      "|    J2CLYW5|     1|   0.0|             143.5|     3.0|\n",
      "|    8ML124D|     1|   1.0|             138.6|    18.0|\n",
      "|    PUUEW3U|     1|   1.0|             136.6|     6.0|\n",
      "|    O1UCOD0|     1|   0.0|             134.3|     4.0|\n",
      "|    OT5DK5L|     1|   2.0|             134.0|    17.0|\n",
      "|    C31LYDS|     1|  null|             130.3|     3.0|\n",
      "|    AN7TY2S|     1|   1.0|             130.3|     3.0|\n",
      "|    21J0Y23|     1|   1.0|             124.9|    11.0|\n",
      "|    JCO5OEF|     1|   2.0|             122.1|     9.0|\n",
      "|    SJR7X1I|     1|   0.0|             117.0|     2.0|\n",
      "|    SSCNNOX|     1|   0.0|             116.0|     3.0|\n",
      "|    37SO8LJ|     2|   2.0|114.39999999999999|     5.0|\n",
      "|    0YQ08HD|     1|   0.0|             110.6|     7.0|\n",
      "|    29FRIMA|     1|   1.0|             110.1|    17.0|\n",
      "|    LK45UHR|     1|   1.0|             108.9|     2.0|\n",
      "|    L3EQF9E|     4|   1.0|107.45000000000002|    7.25|\n",
      "|    T4P321S|     1|   1.0|             107.1|     7.0|\n",
      "+-----------+------+------+------------------+--------+\n",
      "only showing top 20 rows\n",
      "\n"
     ]
    }
   ],
   "source": [
    "df1.join(df2,'customer_id','inner').orderBy('avg_total','amount','avg_item',ascending=False).show()\n"
   ]
  },
  {
   "cell_type": "code",
   "execution_count": 112,
   "metadata": {},
   "outputs": [
    {
     "name": "stdout",
     "output_type": "stream",
     "text": [
      "+-----------+------+------+------------------+------------------+\n",
      "|customer_id|amount|gender|         avg_total|          avg_item|\n",
      "+-----------+------+------+------------------+------------------+\n",
      "|    XW90EAP|   247|   1.0|14.392307692307671|2.1781376518218623|\n",
      "|    VDEJEMP|   143|   1.0|13.979020979020975| 2.062937062937063|\n",
      "|    TL7Z2DM|   139|   1.0|10.892805755395694| 2.446043165467626|\n",
      "|    HJFTTGW|   121|   0.0|12.450413223140503|2.3057851239669422|\n",
      "|    B28LJKM|   117|   1.0| 33.28717948717948|4.0085470085470085|\n",
      "|    2JJAO46|   110|  null|18.607272727272726|2.6363636363636362|\n",
      "|    TVSPG2H|   110|   1.0|12.516363636363632|               2.8|\n",
      "|    KXXRD9J|   106|   1.0|13.553773584905652|2.1037735849056602|\n",
      "|    HX76ORD|   101|   2.0|14.509900990099021| 1.900990099009901|\n",
      "|    BUIAFFT|   100|   1.0|            22.388|              2.54|\n",
      "|    8771JHK|    96|   1.0|22.029166666666658|3.1354166666666665|\n",
      "|    1P5RQ9H|    96|   1.0|18.703124999999996|2.4583333333333335|\n",
      "|    X8BK4DW|    95|   1.0| 9.105263157894736| 2.126315789473684|\n",
      "|    17Q7881|    92|   0.0| 11.19239130434781|1.2826086956521738|\n",
      "|    UO5X10D|    91|   1.0| 33.72747252747253|3.7032967032967035|\n",
      "|    U31BNUR|    90|   1.0| 20.25444444444444| 2.566666666666667|\n",
      "|    CSGUKZ8|    85|   1.0|14.171764705882367|1.9176470588235295|\n",
      "|    3VOXTV5|    83|   1.0| 19.08915662650602|1.9397590361445782|\n",
      "|    DBL0X78|    83|   1.0| 16.18915662650603|2.1566265060240966|\n",
      "|    V5EUZQT|    83|   1.0| 15.00000000000001| 1.855421686746988|\n",
      "+-----------+------+------+------------------+------------------+\n",
      "only showing top 20 rows\n",
      "\n"
     ]
    }
   ],
   "source": [
    "df1.join(df2,'customer_id','inner').orderBy('amount','avg_total','avg_item',ascending=False).show()"
   ]
  },
  {
   "cell_type": "code",
   "execution_count": 3,
   "metadata": {},
   "outputs": [],
   "source": [
    "# df_orders.select('payment_mode').show()"
   ]
  },
  {
   "cell_type": "code",
   "execution_count": 24,
   "metadata": {},
   "outputs": [],
   "source": [
    "# df_orders.select('delivered_time'-'order_accepted_time').show()"
   ]
  },
  {
   "cell_type": "code",
   "execution_count": 4,
   "metadata": {},
   "outputs": [],
   "source": [
    "df1 = df_orders.groupby('customer_id','vendor_id').count()\\\n",
    "            .withColumnRenamed('count','order_times')\\\n",
    "            .filter('order_times>1')\\\n",
    "            .orderBy('customer_id')"
   ]
  },
  {
   "cell_type": "code",
   "execution_count": 5,
   "metadata": {},
   "outputs": [],
   "source": [
    "cu_ven = df_orders.groupby('customer_id','vendor_id').count()\\\n",
    "            .withColumnRenamed('count','order_times')\\\n",
    "            .orderBy('customer_id').count()"
   ]
  },
  {
   "cell_type": "code",
   "execution_count": 35,
   "metadata": {},
   "outputs": [
    {
     "name": "stdout",
     "output_type": "stream",
     "text": [
      "Repurchase rate: 33.14659061144903 %\n"
     ]
    }
   ],
   "source": [
    "print('Repurchase rate:',df1.count()/cu_ven*100,\"%\")"
   ]
  },
  {
   "cell_type": "code",
   "execution_count": 6,
   "metadata": {},
   "outputs": [
    {
     "name": "stdout",
     "output_type": "stream",
     "text": [
      "+-----------+---------+-----------+\n",
      "|customer_id|vendor_id|order_times|\n",
      "+-----------+---------+-----------+\n",
      "|    005ECL6|      237|          2|\n",
      "|    00HRRAK|      298|          4|\n",
      "|    00NAL8D|      583|          4|\n",
      "|    00OT8JX|      192|          2|\n",
      "|    00OT8JX|        4|         21|\n",
      "|    00OT8JX|      298|          2|\n",
      "|    00OT8JX|       92|          2|\n",
      "|    00OT8JX|      159|          9|\n",
      "|    00OT8JX|      104|          2|\n",
      "|    00U89UY|       79|          2|\n",
      "|    010DVV3|       84|          2|\n",
      "|    018GT0H|       33|          2|\n",
      "|    018GT0H|      106|          2|\n",
      "|    0198LZL|      845|          2|\n",
      "|    01BY7WQ|      356|          2|\n",
      "|    01BY7WQ|      145|          3|\n",
      "|    01HG648|      419|          2|\n",
      "|    01HG648|      537|          6|\n",
      "|    01HG648|       84|          3|\n",
      "|    01QRJWD|      401|          3|\n",
      "+-----------+---------+-----------+\n",
      "only showing top 20 rows\n",
      "\n"
     ]
    }
   ],
   "source": [
    "df1.show()"
   ]
  },
  {
   "cell_type": "code",
   "execution_count": 14,
   "metadata": {},
   "outputs": [],
   "source": [
    "df2 = df1.groupby('order_times').count()\\\n",
    "        .withColumnRenamed('count','amount')\\\n",
    "        .orderBy('count',ascending=False)\n",
    "df_p = df2.select('order_times',df2.amount/cu_ven*100).withColumnRenamed('((amount / 68722) * 100)','percentage')\n",
    "df_9 = df_p.select('percentage','order_times').filter('order_times>8').groupby().sum('percentage').collect()[0].asDict()['sum(percentage)']\n",
    "df_p = df_p.filter('order_times<=8').toPandas()\n",
    "df_p = df_p.append([{'order_times':'more than 9','percentage':df_9}], ignore_index=True)"
   ]
  },
  {
   "cell_type": "code",
   "execution_count": 42,
   "metadata": {},
   "outputs": [
    {
     "data": {
      "image/png": "[encoded data removed]",
      "text/plain": [
       "<Figure size 432x288 with 1 Axes>"
      ]
     },
     "metadata": {
      "needs_background": "light"
     },
     "output_type": "display_data"
    }
   ],
   "source": [
    "x=df_p['order_times']\n",
    "y=df_p['percentage']\n",
    "plt.bar(x,y,alpha=0.8,color='olive',edgecolor='darkslategray')\n",
    "plt.title(\"Repurchase percetage\", fontsize=18)\n",
    "plt.ylabel('percentage(%)', fontsize=12)\n",
    "\n",
    "plt.show()"
   ]
  },
  {
   "cell_type": "code",
   "execution_count": null,
   "metadata": {},
   "outputs": [],
   "source": []
  }
 ],
 "metadata": {
  "kernelspec": {
   "display_name": "Python 3",
   "language": "python",
   "name": "python3"
  },
  "language_info": {
   "codemirror_mode": {
    "name": "ipython",
    "version": 3
   },
   "file_extension": ".py",
   "mimetype": "text/x-python",
   "name": "python",
   "nbconvert_exporter": "python",
   "pygments_lexer": "ipython3",
   "version": "3.8.3"
  }
 },
 "nbformat": 4,
 "nbformat_minor": 4
}
